{
 "cells": [
  {
   "cell_type": "code",
   "execution_count": 5,
   "metadata": {},
   "outputs": [
    {
     "name": "stdout",
     "output_type": "stream",
     "text": [
      "C:\\Users\\euare\\repositories\\cpc\n"
     ]
    }
   ],
   "source": [
    "%cd .."
   ]
  },
  {
   "cell_type": "code",
   "execution_count": 6,
   "metadata": {},
   "outputs": [
    {
     "name": "stderr",
     "output_type": "stream",
     "text": [
      "INFO:numexpr.utils:NumExpr defaulting to 4 threads.\n",
      "INFO:root:Starting harmonization\n",
      "INFO:root:Calculating cost values\n",
      "INFO:root:Creating power plant input file\n",
      "INFO:root:Creating power plant cost potential file\n",
      "INFO:root:Creating iron and steel cost potential file\n",
      "INFO:root:Creating cement cost potential file\n"
     ]
    }
   ],
   "source": [
    "from src.api import *\n",
    "from src.curveproduction.cost_potential_curve import *\n",
    "initialize()"
   ]
  },
  {
   "cell_type": "code",
   "execution_count": 7,
   "metadata": {},
   "outputs": [
    {
     "name": "stderr",
     "output_type": "stream",
     "text": [
      "C:\\Users\\euare\\repositories\\cpc\\src\\curveproduction\\geo_distribution_data.py:209: UserWarning: Geometry is in a geographic CRS. Results from 'centroid' are likely incorrect. Use 'GeoSeries.to_crs()' to re-project geometries to a projected CRS before this operation.\n",
      "\n",
      "  gdf[\"lon\"] = gdf.centroid.x\n",
      "C:\\Users\\euare\\repositories\\cpc\\src\\curveproduction\\geo_distribution_data.py:210: UserWarning: Geometry is in a geographic CRS. Results from 'centroid' are likely incorrect. Use 'GeoSeries.to_crs()' to re-project geometries to a projected CRS before this operation.\n",
      "\n",
      "  gdf[\"lat\"] = gdf.centroid.y\n"
     ]
    },
    {
     "data": {
      "text/plain": [
       "Cost potential distribution in dataframe form"
      ]
     },
     "execution_count": 7,
     "metadata": {},
     "output_type": "execute_result"
    }
   ],
   "source": [
    "distribution = cost_emission_distribution([\"basic\", \"cement\", \"iron\"])\n",
    "distribution"
   ]
  },
  {
   "cell_type": "code",
   "execution_count": 8,
   "metadata": {},
   "outputs": [],
   "source": [
    "curve = CostCurve.from_distribution(distribution)\n",
    "data = curve.curve"
   ]
  },
  {
   "cell_type": "code",
   "execution_count": 9,
   "metadata": {},
   "outputs": [
    {
     "data": {
      "text/plain": [
       "<matplotlib.collections.PolyCollection at 0x294002e6250>"
      ]
     },
     "execution_count": 9,
     "metadata": {},
     "output_type": "execute_result"
    },
    {
     "data": {
      "image/png": "[encoded data removed]",
      "text/plain": [
       "<Figure size 432x288 with 1 Axes>"
      ]
     },
     "metadata": {
      "needs_background": "light"
     },
     "output_type": "display_data"
    }
   ],
   "source": [
    "import matplotlib.pyplot as plt\n",
    "import seaborn as sns \n",
    "from matplotlib import cm\n",
    "from matplotlib.lines import Line2D\n",
    "from matplotlib import rc\n",
    "rc('text', usetex=True)\n",
    "fig, ax = plt.subplots()\n",
    "ax.fill_between(data[\"amount\"], data[\"cost\"], where=data.source == \"Lignite\", facecolor= \"#36454F\", alpha=0.5)\n",
    "ax.fill_between(data[\"amount\"], data[\"cost\"], where=data.source == \"Cement\", facecolor= \"blue\", alpha=0.5)"
   ]
  },
  {
   "cell_type": "code",
   "execution_count": 10,
   "metadata": {},
   "outputs": [],
   "source": [
    "uniques = data.source.unique()\n",
    "colors = {\"Cement\": \"#36454F\",\n",
    "          \"IronSteel\": \"#89CFF0\",\n",
    "          \"Lignite\": \"#CD7F32\",\n",
    "          \"Bioenergy\": \"#228B22\",\n",
    "          \"Hard Coal\": \"#000000\",\n",
    "          \"Natural Gas\": \"#800000\"}"
   ]
  },
  {
   "cell_type": "code",
   "execution_count": 11,
   "metadata": {},
   "outputs": [
    {
     "data": {
      "text/plain": [
       "Text(0.5, 0, 'Potential - MtCO2/a')"
      ]
     },
     "execution_count": 11,
     "metadata": {},
     "output_type": "execute_result"
    },
    {
     "name": "stderr",
     "output_type": "stream",
     "text": [
      "WARNING:matplotlib.font_manager:findfont: Font family ['serif'] not found. Falling back to DejaVu Sans.\n"
     ]
    },
    {
     "data": {
      "image/png": "[encoded data removed]",
      "text/plain": [
       "<Figure size 720x432 with 1 Axes>"
      ]
     },
     "metadata": {
      "needs_background": "light"
     },
     "output_type": "display_data"
    }
   ],
   "source": [
    "fig, ax = plt.subplots(figsize=(10,6))\n",
    "ax.grid(axis=\"y\", linestyle= \"--\", color = \"black\", dashes=(5, 10), linewidth=1, zorder=0)\n",
    "ax.set_axisbelow(True)\n",
    "for source in uniques:    \n",
    "    ax.fill_between(data[\"amount\"], data[\"cost\"], where=data.source == source, facecolor= colors[source])\n",
    "ax.plot(data[\"amount\"], data[\"cost\"], color =\"black\", linewidth=2)    \n",
    "custom_lines = [Line2D([0], [0], color=c, lw=4) for k, c in colors.items()]\n",
    "ax.set_xlim([0,max(data[\"amount\"])])\n",
    "ax.set_ylim([0,max(data[\"cost\"])])\n",
    "ax.set_facecolor('#CCCCFF')\n",
    "ax.legend(custom_lines, [k for k in colors.keys()], framealpha=0.5)\n",
    "ax.set_title(\"Cost and potential of captured CO2\")\n",
    "ax.set_ylabel(\"Cost - €/tCO2\")\n",
    "ax.set_xlabel(\"Potential - MtCO2/a\")"
   ]
  },
  {
   "cell_type": "code",
   "execution_count": 173,
   "metadata": {},
   "outputs": [
    {
     "data": {
      "text/plain": [
       "array(['Cement', 'IronSteel', 'Lignite', 'Bioenergy', 'Hard Coal',\n",
       "       'Natural Gas'], dtype=object)"
      ]
     },
     "execution_count": 173,
     "metadata": {},
     "output_type": "execute_result"
    }
   ],
   "source": [
    "uniques"
   ]
  },
  {
   "cell_type": "code",
   "execution_count": 132,
   "metadata": {},
   "outputs": [
    {
     "data": {
      "text/html": [
       "<div>\n",
       "<style scoped>\n",
       "    .dataframe tbody tr th:only-of-type {\n",
       "        vertical-align: middle;\n",
       "    }\n",
       "\n",
       "    .dataframe tbody tr th {\n",
       "        vertical-align: top;\n",
       "    }\n",
       "\n",
       "    .dataframe thead th {\n",
       "        text-align: right;\n",
       "    }\n",
       "</style>\n",
       "<table border=\"1\" class=\"dataframe\">\n",
       "  <thead>\n",
       "    <tr style=\"text-align: right;\">\n",
       "      <th></th>\n",
       "      <th>source</th>\n",
       "      <th>cost</th>\n",
       "      <th>variable</th>\n",
       "      <th>amount</th>\n",
       "    </tr>\n",
       "  </thead>\n",
       "  <tbody>\n",
       "    <tr>\n",
       "      <th>0</th>\n",
       "      <td>Cement</td>\n",
       "      <td>6.937014</td>\n",
       "      <td>lower</td>\n",
       "      <td>0.000000</td>\n",
       "    </tr>\n",
       "    <tr>\n",
       "      <th>1</th>\n",
       "      <td>Cement</td>\n",
       "      <td>6.937014</td>\n",
       "      <td>upper</td>\n",
       "      <td>4.621946</td>\n",
       "    </tr>\n",
       "    <tr>\n",
       "      <th>2</th>\n",
       "      <td>Cement</td>\n",
       "      <td>7.722348</td>\n",
       "      <td>lower</td>\n",
       "      <td>4.621946</td>\n",
       "    </tr>\n",
       "    <tr>\n",
       "      <th>3</th>\n",
       "      <td>Cement</td>\n",
       "      <td>7.722348</td>\n",
       "      <td>upper</td>\n",
       "      <td>8.773856</td>\n",
       "    </tr>\n",
       "    <tr>\n",
       "      <th>4</th>\n",
       "      <td>Cement</td>\n",
       "      <td>9.836554</td>\n",
       "      <td>lower</td>\n",
       "      <td>8.773856</td>\n",
       "    </tr>\n",
       "    <tr>\n",
       "      <th>...</th>\n",
       "      <td>...</td>\n",
       "      <td>...</td>\n",
       "      <td>...</td>\n",
       "      <td>...</td>\n",
       "    </tr>\n",
       "    <tr>\n",
       "      <th>3131</th>\n",
       "      <td>IronSteel</td>\n",
       "      <td>136.596310</td>\n",
       "      <td>upper</td>\n",
       "      <td>1748.625830</td>\n",
       "    </tr>\n",
       "    <tr>\n",
       "      <th>3132</th>\n",
       "      <td>IronSteel</td>\n",
       "      <td>NaN</td>\n",
       "      <td>upper</td>\n",
       "      <td>1748.625830</td>\n",
       "    </tr>\n",
       "    <tr>\n",
       "      <th>3133</th>\n",
       "      <td>IronSteel</td>\n",
       "      <td>NaN</td>\n",
       "      <td>upper</td>\n",
       "      <td>1748.625830</td>\n",
       "    </tr>\n",
       "    <tr>\n",
       "      <th>3134</th>\n",
       "      <td>IronSteel</td>\n",
       "      <td>NaN</td>\n",
       "      <td>lower</td>\n",
       "      <td>1748.625830</td>\n",
       "    </tr>\n",
       "    <tr>\n",
       "      <th>3135</th>\n",
       "      <td>IronSteel</td>\n",
       "      <td>NaN</td>\n",
       "      <td>lower</td>\n",
       "      <td>1748.625830</td>\n",
       "    </tr>\n",
       "  </tbody>\n",
       "</table>\n",
       "<p>3136 rows × 4 columns</p>\n",
       "</div>"
      ],
      "text/plain": [
       "         source        cost variable       amount\n",
       "0        Cement    6.937014    lower     0.000000\n",
       "1        Cement    6.937014    upper     4.621946\n",
       "2        Cement    7.722348    lower     4.621946\n",
       "3        Cement    7.722348    upper     8.773856\n",
       "4        Cement    9.836554    lower     8.773856\n",
       "...         ...         ...      ...          ...\n",
       "3131  IronSteel  136.596310    upper  1748.625830\n",
       "3132  IronSteel         NaN    upper  1748.625830\n",
       "3133  IronSteel         NaN    upper  1748.625830\n",
       "3134  IronSteel         NaN    lower  1748.625830\n",
       "3135  IronSteel         NaN    lower  1748.625830\n",
       "\n",
       "[3136 rows x 4 columns]"
      ]
     },
     "execution_count": 132,
     "metadata": {},
     "output_type": "execute_result"
    }
   ],
   "source": [
    "data"
   ]
  },
  {
   "cell_type": "code",
   "execution_count": null,
   "metadata": {},
   "outputs": [],
   "source": []
  }
 ],
 "metadata": {
  "@webio": {
   "lastCommId": null,
   "lastKernelId": null
  },
  "kernelspec": {
   "display_name": "Python 3",
   "language": "python",
   "name": "python3"
  },
  "language_info": {
   "codemirror_mode": {
    "name": "ipython",
    "version": 3
   },
   "file_extension": ".py",
   "mimetype": "text/x-python",
   "name": "python",
   "nbconvert_exporter": "python",
   "pygments_lexer": "ipython3",
   "version": "3.8.5"
  }
 },
 "nbformat": 4,
 "nbformat_minor": 4
}
