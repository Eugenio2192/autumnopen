{
 "cells": [
  {
   "cell_type": "code",
   "execution_count": 1,
   "metadata": {},
   "outputs": [
    {
     "name": "stdout",
     "output_type": "stream",
     "text": [
      "C:\\Users\\euare\\repositories\\cpc\n"
     ]
    }
   ],
   "source": [
    "%cd .."
   ]
  },
  {
   "cell_type": "code",
   "execution_count": 2,
   "metadata": {},
   "outputs": [
    {
     "name": "stderr",
     "output_type": "stream",
     "text": [
      "INFO:numexpr.utils:NumExpr defaulting to 4 threads.\n"
     ]
    }
   ],
   "source": [
    "from src.api import *\n",
    "from src.curveproduction.cost_potential_curve import *\n",
    "from src.homogenize import create_cost_potential_curve_pp_input\n",
    "from src.tools.config_loader import Configuration\n",
    "from src.curveproduction.cost_potential_curve import *\n",
    "import matplotlib.pyplot as plt\n",
    "import numpy as np\n",
    "import warnings\n",
    "\n",
    "#config = Configuration.get_instance()"
   ]
  },
  {
   "cell_type": "markdown",
   "metadata": {},
   "source": [
    "#  Testing the effect of cost value boundaries"
   ]
  },
  {
   "cell_type": "code",
   "execution_count": null,
   "metadata": {},
   "outputs": [],
   "source": [
    "config.set_value(\"reference_value\", \"InputHomogenization\", \"CostLevel\")\n",
    "create_cost_potential_curve_pp_input()\n",
    "distribution = cost_emission_distribution([\"basic\", \"iron\", \"cement\"])\n",
    "distribution.plot()"
   ]
  },
  {
   "cell_type": "code",
   "execution_count": null,
   "metadata": {},
   "outputs": [],
   "source": [
    "config.set_value(\"range_low\", \"InputHomogenization\", \"CostLevel\")\n",
    "create_cost_potential_curve_pp_input()\n",
    "distribution_low = cost_emission_distribution([\"basic\"])\n",
    "distribution_low.plot()"
   ]
  },
  {
   "cell_type": "code",
   "execution_count": null,
   "metadata": {},
   "outputs": [],
   "source": [
    "config.set_value(\"range_high\", \"InputHomogenization\", \"CostLevel\")\n",
    "create_cost_potential_curve_pp_input()\n",
    "distribution_high = cost_emission_distribution([\"basic\"])\n",
    "distribution_high.plot()"
   ]
  },
  {
   "cell_type": "code",
   "execution_count": null,
   "metadata": {},
   "outputs": [],
   "source": [
    "fig, ax = plt.subplots(figsize=(12,10))\n",
    "curve_ref = CostCurve.from_distribution(distribution)\n",
    "curve_low = CostCurve.from_distribution(distribution_low)\n",
    "curve_high = CostCurve.from_distribution(distribution_high)\n",
    "curve_ref.plot(ax, label = \"Reference\")\n",
    "curve_low.plot(ax, label = \"Low\")\n",
    "curve_high.plot(ax, label = \"High\")"
   ]
  },
  {
   "cell_type": "markdown",
   "metadata": {},
   "source": [
    "#  Testing the effect of cost capture efficiency\n",
    "\n",
    "Note: Capture efficiency for steel is constrained by the study specifications, everything else has a capture efficiency assigned based on various literature values, this can be varied"
   ]
  },
  {
   "cell_type": "code",
   "execution_count": 10,
   "metadata": {},
   "outputs": [],
   "source": [
    "parameter_config_map= {\n",
    "    \"cost\": [ \"InputHomogenization\", \"CostLevel\"],\n",
    "    \"heatratechange\": [ \"InputHomogenization\", \"HRLevel\"],\n",
    "    \"capefficiency\": [\"InputHomogenization\", \"CostOfCCConfig\", \"DefaultValues\", \"CaptureEfficiency\"],\n",
    "    \"capacityfactor_bio\": [\"InputHomogenization\", \"CostOfCCConfig\", \"DefaultValues\", \"CapacityFactor\", \"Bioenergy\"],\n",
    "    \"capacityfactor_hc\": [\"InputHomogenization\", \"CostOfCCConfig\", \"DefaultValues\", \"CapacityFactor\", \"Hard Coal\"],\n",
    "    \"capacityfactor_lg\": [\"InputHomogenization\", \"CostOfCCConfig\", \"DefaultValues\", \"CapacityFactor\", \"Lignite\"],\n",
    "    \"capacityfactor_ng\": [\"InputHomogenization\", \"CostOfCCConfig\", \"DefaultValues\", \"CapacityFactor\", \"Natural Gas\"]\n",
    "} \n",
    "\n",
    "CF_structure= { \"Bioenergy\": 0.3,\n",
    "        \"Hard Coal\": 0.5,\n",
    "        \"Lignite\": 0.75,\n",
    "        \"Natural Gas\": 0.4 } \n",
    "\n",
    "CF_low= { \"Bioenergy\": 0.3,\n",
    "        \"Hard Coal\": 0.4,\n",
    "        \"Lignite\": 0.5,\n",
    "        \"Natural Gas\": 0.3 } \n",
    "\n",
    "CF_mid= { \"Bioenergy\": 0.4,\n",
    "        \"Hard Coal\": 0.6,\n",
    "        \"Lignite\": 0.6,\n",
    "        \"Natural Gas\": 0.5 } \n",
    "\n",
    "CF_high= { \"Bioenergy\": 0.5,\n",
    "        \"Hard Coal\": 0.75,\n",
    "        \"Lignite\": 0.75,\n",
    "        \"Natural Gas\": 0.6 } \n",
    "\n",
    "\n",
    "parameter_levels= {\n",
    "    \"cost\": [\"range_low\", \"reference_value\", \"range_high\"],\n",
    "    \"heatratechange\": [\"range_low\", \"reference_value\", \"range_high\"],\n",
    "    \"capefficiency\": np.linspace(0,1,9),\n",
    "    \"capacityfactor\": [CF_low, CF_mid, CF_high],\n",
    "    \"capacityfactor_bio\": np.linspace(0.3,0.6,3),\n",
    "    \"capacityfactor_hc\": np.linspace(0.4,0.8,3),\n",
    "    \"capacityfactor_lg\": np.linspace(0.5,0.8,3),\n",
    "    \"capacityfactor_ng\": np.linspace(0.4,0.6,3)\n",
    "}\n",
    "def set_config_parameters(level, parameter):\n",
    "    config.set_value(level, *parameter_config_map[parameter])\n",
    "    return\n",
    "\n",
    "def sensitivity_distributions(parameter):\n",
    "    levels = parameter_levels[parameter]\n",
    "    distributions= {}\n",
    "    for level in levels:\n",
    "        set_config_parameters(level, parameter)\n",
    "        create_cost_potential_curve_pp_input()\n",
    "        distributions[level] = cost_emission_distribution([\"basic\"])\n",
    "    return distributions\n",
    "\n",
    "def plot_comparative_plots(distributions):\n",
    "    fig, ax = plt.subplots(figsize=(12,10))\n",
    "    for idx in distributions:\n",
    "        curve= CostCurve.from_distribution(distributions[idx])\n",
    "        curve.plot(ax, label = idx)\n",
    "    plt.show()\n",
    "\n",
    "def sensitivity_distributions_cf(parameters):\n",
    "    levels = np.array([parameter_levels[p] for p in parameters])\n",
    "    distributions= {}\n",
    "    for i in range(levels.shape[1]):   \n",
    "        for j, par in enumerate(parameters):\n",
    "            set_config_parameters(levels[j,i], par)\n",
    "        create_cost_potential_curve_pp_input()\n",
    "        distributions[\"Level: {}\".format(i)] = cost_emission_distribution([\"basic\"])\n",
    "    return distributions\n",
    "        "
   ]
  },
  {
   "cell_type": "code",
   "execution_count": null,
   "metadata": {
    "scrolled": false
   },
   "outputs": [],
   "source": [
    "config.reset_values()\n",
    "with warnings.catch_warnings():\n",
    "    ceff_level_dististributions = sensitivity_distributions(\"capefficiency\")\n",
    "    plot_comparative_plots(ceff_level_dististributions)"
   ]
  },
  {
   "cell_type": "code",
   "execution_count": null,
   "metadata": {},
   "outputs": [],
   "source": [
    "with warnings.catch_warnings():\n",
    "    cost_level_dististributions = sensitivity_distributions(\"cost\")\n",
    "    plot_comparative_plots(cost_level_dististributions)"
   ]
  },
  {
   "cell_type": "code",
   "execution_count": 16,
   "metadata": {},
   "outputs": [
    {
     "name": "stderr",
     "output_type": "stream",
     "text": [
      "INFO:root:The configuration values have been reset\n",
      "WARNING:matplotlib.font_manager:findfont: Font family ['serif'] not found. Falling back to DejaVu Sans.\n"
     ]
    },
    {
     "data": {
      "image/png": "[encoded data removed]",
      "text/plain": [
       "<Figure size 864x720 with 1 Axes>"
      ]
     },
     "metadata": {
      "needs_background": "light"
     },
     "output_type": "display_data"
    }
   ],
   "source": [
    "config.reset_defaults()\n",
    "del config\n",
    "config = Configuration()\n",
    "with warnings.catch_warnings():\n",
    "    hr_level_dististributions = sensitivity_distributions(\"heatratechange\")\n",
    "    plot_comparative_plots(hr_level_dististributions)"
   ]
  },
  {
   "cell_type": "code",
   "execution_count": null,
   "metadata": {},
   "outputs": [],
   "source": [
    "config.reset_defaults()\n",
    "del config\n",
    "config = Configuration()\n",
    "with warnings.catch_warnings():\n",
    "    cf_level_dististributions = sensitivity_distributions_cf([\"capacityfactor_bio\",\n",
    "    \"capacityfactor_hc\",\n",
    "    \"capacityfactor_lg\",\n",
    "    \"capacityfactor_ng\"]\n",
    "                            )\n",
    "    plot_comparative_plots(cf_level_dististributions)"
   ]
  },
  {
   "cell_type": "markdown",
   "metadata": {},
   "source": [
    "# Extreme cases"
   ]
  },
  {
   "cell_type": "code",
   "execution_count": null,
   "metadata": {},
   "outputs": [],
   "source": [
    "set_config_parameters(\"range_low\", \"cost\")\n",
    "set_config_parameters(\"range_high\", \"heatratechange\")\n",
    "set_config_parameters(0.9,\"capefficiency\")\n",
    "set_config_parameters(0.3,\"capacityfactor_bio\")\n",
    "set_config_parameters(0.4,\"capacityfactor_hc\")\n",
    "set_config_parameters(0.5,\"capacityfactor_lg\")\n",
    "set_config_parameters(0.4,\"capacityfactor_ng\")\n",
    "\n",
    "create_cost_potential_curve_pp_input()\n",
    "distribution_low = cost_emission_distribution([\"basic\", \"iron\", \"cement\"], territories= [\"DE\"])\n",
    "\n",
    "fig, ax = plt.subplots(figsize=(12,10))\n",
    "curve_low= CostCurve.from_distribution(distribution_low)\n",
    "curve_low.plot(ax, label = \"low\")\n",
    "\n",
    "set_config_parameters(\"range_high\", \"cost\")\n",
    "set_config_parameters(\"range_low\", \"heatratechange\")\n",
    "set_config_parameters(0.9,\"capefficiency\")\n",
    "set_config_parameters(0.6,\"capacityfactor_bio\")\n",
    "set_config_parameters(0.8,\"capacityfactor_hc\")\n",
    "set_config_parameters(0.8,\"capacityfactor_lg\")\n",
    "set_config_parameters(0.6,\"capacityfactor_ng\")\n",
    "\n",
    "create_cost_potential_curve_pp_input()\n",
    "distribution_high = cost_emission_distribution([\"basic\", \"iron\", \"cement\"], territories= [\"DE\"])\n",
    "curve_high= CostCurve.from_distribution(distribution_high)\n",
    "curve_high.plot(ax, label = \"high\")\n",
    "\n",
    "set_config_parameters(\"reference_value\", \"cost\")\n",
    "set_config_parameters(\"reference_value\", \"heatratechange\")\n",
    "set_config_parameters(0.9,\"capefficiency\")\n",
    "set_config_parameters(0.4,\"capacityfactor_bio\")\n",
    "set_config_parameters(0.6,\"capacityfactor_hc\")\n",
    "set_config_parameters(0.6,\"capacityfactor_lg\")\n",
    "set_config_parameters(0.5,\"capacityfactor_ng\")\n",
    "\n",
    "create_cost_potential_curve_pp_input()\n",
    "distribution_ref = cost_emission_distribution([\"basic\", \"iron\", \"cement\"], territories= [\"DE\"])\n",
    "curve_ref= CostCurve.from_distribution(distribution_ref)\n",
    "curve_ref.plot(ax, label = \"ref\")\n",
    "\n",
    "plt.show()"
   ]
  },
  {
   "cell_type": "code",
   "execution_count": null,
   "metadata": {},
   "outputs": [],
   "source": [
    "parameter_levels= {\n",
    "    \"cost\": [\"range_low\", \"reference_value\", \"range_high\"],\n",
    "    \"heatratechange\": [\"range_low\", \"reference_value\", \"range_high\"],\n",
    "    \"capefficiency\": np.linspace(0,1,9),\n",
    "    \"capacityfactor\": [CF_low, CF_mid, CF_high],\n",
    "    \"capacityfactor_bio\": np.linspace(0.3,0.6,3),\n",
    "    \"capacityfactor_hc\": np.linspace(0.4,0.8,3),\n",
    "    \"capacityfactor_lg\": np.linspace(0.5,0.8,3),\n",
    "    \"capacityfactor_ng\": np.linspace(0.4,0.6,3)\n",
    "}"
   ]
  },
  {
   "cell_type": "code",
   "execution_count": null,
   "metadata": {},
   "outputs": [],
   "source": [
    "colors_low = {\"Cement\": \"#95a9b7\",\n",
    "          \"IronSteel\": \"#d2edf9\",\n",
    "          \"Lignite\": \"#ebccad\",\n",
    "          \"Bioenergy\": \"#98e698\",\n",
    "          \"Hard Coal\": \"#666666\",\n",
    "          \"Natural Gas\": \"#ff0000\"}\n",
    "\n",
    "colors_high = {\"Cement\": \"#151a1e\",\n",
    "          \"IronSteel\": \"#1783b5\",\n",
    "          \"Lignite\": \"#674019\",\n",
    "          \"Bioenergy\": \"#0f3e0f\",\n",
    "          \"Hard Coal\": \"#000000\",\n",
    "          \"Natural Gas\": \"#800000\"}\n",
    "\n",
    "colors_mid = {\"Cement\": \"#36454F\",\n",
    "          \"IronSteel\": \"#89CFF0\",\n",
    "          \"Lignite\": \"#CD7F32\",\n",
    "          \"Bioenergy\": \"#228B22\",\n",
    "          \"Hard Coal\": \"#000000\",\n",
    "          \"Natural Gas\": \"#800000\"}\n",
    "\n",
    "uniques = curve_ref.curve.source.unique()\n",
    "data_ref= curve_ref.curve\n",
    "data_low= curve_low.curve\n",
    "data_high= curve_high.curve"
   ]
  },
  {
   "cell_type": "code",
   "execution_count": null,
   "metadata": {},
   "outputs": [],
   "source": [
    "import matplotlib.pyplot as plt\n",
    "import seaborn as sns \n",
    "from matplotlib import cm\n",
    "from matplotlib.lines import Line2D\n",
    "from matplotlib import rc\n",
    "rc('text', usetex=False)\n",
    "\n",
    "fig, ax = plt.subplots(figsize=(10,6))\n",
    "ax.grid(axis=\"y\", linestyle= \"--\", color = \"black\", dashes=(5, 10), linewidth=1, zorder=0)\n",
    "ax.set_axisbelow(True)\n",
    "def color_plot(data, ax, colors, alpha=1, color = \"black\"):\n",
    "    uniques = data.source.unique()\n",
    "    for source in uniques:    \n",
    "        ax.fill_between(data[\"amount\"], data[\"cost\"], where=data.source == source, facecolor= colors[source], alpha = alpha)\n",
    "    ax.plot(data[\"amount\"], data[\"cost\"], color = color, linewidth=2)    \n",
    "    custom_lines = [Line2D([0], [0], color=c, lw=4) for k, c in colors.items()]\n",
    "    #ax.set_xlim([0,max(data[\"amount\"])])\n",
    "    #ax.set_ylim([0,max(data[\"cost\"])])\n",
    "    ax.set_facecolor('#CCCCFF')\n",
    "    ax.legend(custom_lines, [k for k in colors.keys()], framealpha=0.5)\n",
    "    ax.set_title(\"Cost and potential of captured CO2\")\n",
    "    ax.set_ylabel(\"Cost - €/tCO2\")\n",
    "    ax.set_xlabel(\"Potential - MtCO2/a\")\n",
    "    \n",
    "\n",
    "ax.set_xlim([0,350])\n",
    "ax.set_ylim([0,140])\n",
    "color_plot(data_high, ax, colors_mid, 1, \"red\")\n",
    "color_plot(data_ref, ax, colors_mid, 1, \"white\")\n",
    "color_plot(data_low, ax, colors_mid, 1, \"blue\")"
   ]
  },
  {
   "cell_type": "code",
   "execution_count": null,
   "metadata": {},
   "outputs": [],
   "source": [
    "import seaborn as sns\n",
    "test_d = ceff_level_dististributions[1].data\n",
    "test_d2 = ceff_level_dististributions[ 0.875].data\n",
    "ax = sns.boxplot(data = test_d, y = \"cost\")\n",
    "sns.boxplot(data = test_d2, y = \"cost\", ax = ax)"
   ]
  },
  {
   "cell_type": "code",
   "execution_count": null,
   "metadata": {},
   "outputs": [],
   "source": [
    "df = pd.DataFrame(index = ceff_level_dististributions[0].data.index )\n",
    "df[\"column\"] =  ceff_level_dististributions[0].data.cost\n",
    "print(df)"
   ]
  },
  {
   "cell_type": "code",
   "execution_count": null,
   "metadata": {},
   "outputs": [],
   "source": [
    "def columns_for_boxplot(collection, column):\n",
    "    keys = list(collection.keys())\n",
    "    df = pd.DataFrame(index = collection[keys[0]].data.index )\n",
    "    for distribution in collection:\n",
    "        df[\"{}\".format(distribution)]= collection[distribution].data[column]\n",
    "    return df"
   ]
  },
  {
   "cell_type": "code",
   "execution_count": null,
   "metadata": {},
   "outputs": [],
   "source": [
    "dummy = columns_for_boxplot(ceff_level_dististributions, \"cost\")\n",
    "sns.boxplot(data = dummy)"
   ]
  },
  {
   "cell_type": "code",
   "execution_count": null,
   "metadata": {},
   "outputs": [],
   "source": [
    "dummy = columns_for_boxplot(cost_level_dististributions, \"cost\")\n",
    "sns.boxplot(data = dummy)"
   ]
  },
  {
   "cell_type": "code",
   "execution_count": null,
   "metadata": {},
   "outputs": [],
   "source": [
    "dummy = columns_for_boxplot(hr_level_dististributions, \"cost\")\n",
    "sns.boxplot(data = dummy)"
   ]
  },
  {
   "cell_type": "code",
   "execution_count": null,
   "metadata": {},
   "outputs": [],
   "source": [
    "dummy = columns_for_boxplot(cf_level_dististributions, \"cost\")\n",
    "sns.boxplot(data = dummy)"
   ]
  },
  {
   "cell_type": "code",
   "execution_count": null,
   "metadata": {},
   "outputs": [],
   "source": [
    "config.__dict__"
   ]
  },
  {
   "cell_type": "code",
   "execution_count": null,
   "metadata": {},
   "outputs": [],
   "source": [
    "set_config_parameters(\"range_high\", \"cost\")\n",
    "set_config_parameters(\"range_low\", \"heatratechange\")\n",
    "config.__dict__"
   ]
  },
  {
   "cell_type": "code",
   "execution_count": null,
   "metadata": {},
   "outputs": [],
   "source": [
    "config.reset_values()\n",
    "config.__dict__"
   ]
  },
  {
   "cell_type": "code",
   "execution_count": null,
   "metadata": {},
   "outputs": [],
   "source": [
    "config.reset_defaults()\n",
    "config.__dict__"
   ]
  },
  {
   "cell_type": "code",
   "execution_count": null,
   "metadata": {},
   "outputs": [],
   "source": [
    "Configuration.__dict__"
   ]
  },
  {
   "cell_type": "code",
   "execution_count": null,
   "metadata": {},
   "outputs": [],
   "source": [
    "config.__instance"
   ]
  },
  {
   "cell_type": "code",
   "execution_count": 4,
   "metadata": {},
   "outputs": [
    {
     "name": "stderr",
     "output_type": "stream",
     "text": [
      "INFO:root:The configuration values have been reset\n"
     ]
    }
   ],
   "source": [
    "config.reset_defaults()"
   ]
  },
  {
   "cell_type": "code",
   "execution_count": 6,
   "metadata": {},
   "outputs": [],
   "source": [
    "del config"
   ]
  },
  {
   "cell_type": "code",
   "execution_count": 8,
   "metadata": {},
   "outputs": [
    {
     "data": {
      "text/plain": [
       "<src.tools.config_loader.Configuration at 0x22c1d602100>"
      ]
     },
     "execution_count": 8,
     "metadata": {},
     "output_type": "execute_result"
    }
   ],
   "source": [
    "Configuration()"
   ]
  },
  {
   "cell_type": "code",
   "execution_count": 15,
   "metadata": {},
   "outputs": [],
   "source": [
    "config = Configuration.get_instance()"
   ]
  },
  {
   "cell_type": "code",
   "execution_count": null,
   "metadata": {},
   "outputs": [],
   "source": []
  }
 ],
 "metadata": {
  "@webio": {
   "lastCommId": null,
   "lastKernelId": null
  },
  "kernelspec": {
   "display_name": "Python 3",
   "language": "python",
   "name": "python3"
  },
  "language_info": {
   "codemirror_mode": {
    "name": "ipython",
    "version": 3
   },
   "file_extension": ".py",
   "mimetype": "text/x-python",
   "name": "python",
   "nbconvert_exporter": "python",
   "pygments_lexer": "ipython3",
   "version": "3.8.5"
  }
 },
 "nbformat": 4,
 "nbformat_minor": 4
}
